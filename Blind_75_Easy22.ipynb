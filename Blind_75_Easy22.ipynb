{
  "nbformat": 4,
  "nbformat_minor": 0,
  "metadata": {
    "colab": {
      "provenance": []
    },
    "kernelspec": {
      "name": "python3",
      "display_name": "Python 3"
    },
    "language_info": {
      "name": "python"
    }
  },
  "cells": [
    {
      "cell_type": "markdown",
      "source": [
        "## Blind Curated 75\n",
        "\n",
        "\n",
        "### ARRAYS - EASY - 4"
      ],
      "metadata": {
        "id": "zgCk6TDkdds-"
      }
    },
    {
      "cell_type": "markdown",
      "source": [
        "- Problem 01 - Two Sum\n",
        "\n",
        "=============================\n",
        "\n"
      ],
      "metadata": {
        "id": "xOaLQ0madsjb"
      }
    },
    {
      "cell_type": "markdown",
      "source": [
        "Given an array of integers, return indices of the two numbers such that they\n",
        "add up to a specific target.\n",
        "\n",
        "You may assume that each input would have exactly one solution, and you may not\n",
        "use the same element twice."
      ],
      "metadata": {
        "id": "kNrWBhPpeNOa"
      }
    },
    {
      "cell_type": "code",
      "source": [
        "def Two_sum(nums, tag):\n",
        "  tags = {}\n",
        "  for index, num in enumerate(nums):\n",
        "\n",
        "    if num in tags:\n",
        "      return [tags[num], index]\n",
        "    tags[tag-num] = index\n",
        "    print(tags)\n"
      ],
      "metadata": {
        "id": "9n959MMKfh_4"
      },
      "execution_count": 25,
      "outputs": []
    },
    {
      "cell_type": "code",
      "source": [
        "Two_sum([2,2,2,2,2,1],3)"
      ],
      "metadata": {
        "colab": {
          "base_uri": "https://localhost:8080/"
        },
        "id": "J_yQHBHOepJ2",
        "outputId": "310f6ec9-e0d1-4770-eb99-72d64954399d"
      },
      "execution_count": 26,
      "outputs": [
        {
          "output_type": "stream",
          "name": "stdout",
          "text": [
            "{1: 0}\n",
            "{1: 1}\n",
            "{1: 2}\n",
            "{1: 3}\n",
            "{1: 4}\n"
          ]
        },
        {
          "output_type": "execute_result",
          "data": {
            "text/plain": [
              "[4, 5]"
            ]
          },
          "metadata": {},
          "execution_count": 26
        }
      ]
    },
    {
      "cell_type": "markdown",
      "source": [
        "- Problem 02 - Buy or Sell Stocks\n",
        "\n",
        "============================="
      ],
      "metadata": {
        "id": "z8XbaGVuhk3e"
      }
    },
    {
      "cell_type": "markdown",
      "source": [
        "You are given an array prices where prices[i] is the price of a given stock on the ith day.\n",
        "You want to maximize your profit by choosing a single day to buy one stock and choosing a different day in the future to sell that stock.\n",
        "Return the maximum profit you can achieve from this transaction. If you cannot achieve any profit, return 0."
      ],
      "metadata": {
        "id": "w9vuG_Zqdpyc"
      }
    },
    {
      "cell_type": "code",
      "source": [
        "from typing import List\n",
        "def maxProfit(prices: List[int]) -> int:\n",
        "\n",
        "    buy = float('inf')\n",
        "    profit = 0\n",
        "    for price in prices:\n",
        "        buy = min(price, buy)\n",
        "        profit = max(price - buy, profit)\n",
        "        print([buy,profit])\n",
        "    return profit"
      ],
      "metadata": {
        "id": "Se83xLU2gdX-"
      },
      "execution_count": 32,
      "outputs": []
    },
    {
      "cell_type": "code",
      "source": [
        "maxProfit([2,3,4,1,6])"
      ],
      "metadata": {
        "colab": {
          "base_uri": "https://localhost:8080/"
        },
        "id": "xb0odBEsgevK",
        "outputId": "87f8767a-3f10-4fb4-ebad-5898d5bbd858"
      },
      "execution_count": 33,
      "outputs": [
        {
          "output_type": "stream",
          "name": "stdout",
          "text": [
            "[2, 0]\n",
            "[2, 1]\n",
            "[2, 2]\n",
            "[1, 2]\n",
            "[1, 5]\n"
          ]
        },
        {
          "output_type": "execute_result",
          "data": {
            "text/plain": [
              "5"
            ]
          },
          "metadata": {},
          "execution_count": 33
        }
      ]
    },
    {
      "cell_type": "markdown",
      "source": [
        "- Problem 03 - Contains Duplicate\n",
        "\n",
        "============================="
      ],
      "metadata": {
        "id": "d35lbUdOkvvz"
      }
    },
    {
      "cell_type": "markdown",
      "source": [
        "Given an integer array nums, return true if any value appears at least twice in the array, and return false if every element is distinct.\n"
      ],
      "metadata": {
        "id": "wzo6kUhZkuFw"
      }
    },
    {
      "cell_type": "code",
      "source": [
        "from typing import List\n",
        "\n",
        "def containsDuplicate(nums: List[int]) -> bool:\n",
        "    temp = set()\n",
        "    for n in nums:\n",
        "      print(temp)\n",
        "      if n in temp:\n",
        "        return True\n",
        "      else:\n",
        "        temp.add(n)\n",
        "    return False"
      ],
      "metadata": {
        "id": "UCJUt-Pbk6TL"
      },
      "execution_count": 38,
      "outputs": []
    },
    {
      "cell_type": "code",
      "source": [
        "containsDuplicate([2,3,4,5,6,7,5,6,6])"
      ],
      "metadata": {
        "colab": {
          "base_uri": "https://localhost:8080/"
        },
        "id": "edsFFvxelT5P",
        "outputId": "6e1b4ca0-e9f8-4dd2-86d6-42344aaac779"
      },
      "execution_count": 39,
      "outputs": [
        {
          "output_type": "stream",
          "name": "stdout",
          "text": [
            "set()\n",
            "{2}\n",
            "{2, 3}\n",
            "{2, 3, 4}\n",
            "{2, 3, 4, 5}\n",
            "{2, 3, 4, 5, 6}\n",
            "{2, 3, 4, 5, 6, 7}\n"
          ]
        },
        {
          "output_type": "execute_result",
          "data": {
            "text/plain": [
              "True"
            ]
          },
          "metadata": {},
          "execution_count": 39
        }
      ]
    },
    {
      "cell_type": "markdown",
      "source": [
        "- Problem 04 - Maximum Subarray\n",
        "\n",
        "============================="
      ],
      "metadata": {
        "id": "KNQ76pBrnhxx"
      }
    },
    {
      "cell_type": "markdown",
      "source": [
        "Given an integer array nums, find the contiguous subarray (containing at least one number) which has the largest sum and return its sum.\n",
        "A subarray is a contiguous part of an array."
      ],
      "metadata": {
        "id": "NU1sDLuynrGn"
      }
    },
    {
      "cell_type": "code",
      "source": [
        "from typing import List\n",
        "\n",
        "def maxSubArray(nums: List[int]) -> int:\n",
        "    Curr = 0\n",
        "    Maxx = float('-inf')\n",
        "    for n in nums:\n",
        "        Curr = max(n, n + Curr)\n",
        "        if Curr > Maxx:\n",
        "            Maxx = Curr\n",
        "        print(Curr, Maxx)\n",
        "    return Maxx"
      ],
      "metadata": {
        "id": "ZnBhxYHynn7E"
      },
      "execution_count": 68,
      "outputs": []
    },
    {
      "cell_type": "code",
      "source": [
        "maxSubArray([-2,1,-3,4,-1,2,1,-5,4])"
      ],
      "metadata": {
        "colab": {
          "base_uri": "https://localhost:8080/"
        },
        "id": "-WkICmScoMin",
        "outputId": "afd179fd-bf4c-411e-d870-0d50ab60c602"
      },
      "execution_count": 69,
      "outputs": [
        {
          "output_type": "stream",
          "name": "stdout",
          "text": [
            "-2 -2\n",
            "1 1\n",
            "-2 1\n",
            "4 4\n",
            "3 4\n",
            "5 5\n",
            "6 6\n",
            "1 6\n",
            "5 6\n"
          ]
        },
        {
          "output_type": "execute_result",
          "data": {
            "text/plain": [
              "6"
            ]
          },
          "metadata": {},
          "execution_count": 69
        }
      ]
    },
    {
      "cell_type": "markdown",
      "source": [
        "### BINARY - EASY - 4\n"
      ],
      "metadata": {
        "id": "BL8HydCApCh7"
      }
    },
    {
      "cell_type": "markdown",
      "source": [
        "- Problem 01 - Sum of Two intergers\n",
        "\n",
        "============================="
      ],
      "metadata": {
        "id": "YMa7FqrlpMRH"
      }
    },
    {
      "cell_type": "markdown",
      "source": [
        "Given two integers a and b, return the sum of the two integers without using the operators + and -.\n"
      ],
      "metadata": {
        "id": "Bkvtk2-BpgQ_"
      }
    },
    {
      "cell_type": "code",
      "source": [
        "def getSum(a: int, b: int) -> int:\n",
        "    mask = 0b11111111111111111111111111111111\n",
        "    max_int = 0b01111111111111111111111111111111\n",
        "    k = 0b1100\n",
        "    print(mask,max_int,k)\n",
        "\n",
        "    while b:\n",
        "        a, b = (a ^ b) & mask, ((a & b) << 1) & mask\n",
        "        print([a ^ b,(a & b) << 1])\n",
        "    return a if a <= max_int else ~(a ^ mask)"
      ],
      "metadata": {
        "id": "Hd-Z821zokLp"
      },
      "execution_count": 70,
      "outputs": []
    },
    {
      "cell_type": "code",
      "source": [
        "getSum(772,-831)"
      ],
      "metadata": {
        "colab": {
          "base_uri": "https://localhost:8080/"
        },
        "id": "pMUSUZD4pUCA",
        "outputId": "1b4c1c5a-ace9-48d6-bb1f-045614e96dc0"
      },
      "execution_count": 71,
      "outputs": [
        {
          "output_type": "stream",
          "name": "stdout",
          "text": [
            "4294967295 2147483647 12\n",
            "[4294967237, 0]\n"
          ]
        },
        {
          "output_type": "execute_result",
          "data": {
            "text/plain": [
              "-59"
            ]
          },
          "metadata": {},
          "execution_count": 71
        }
      ]
    },
    {
      "cell_type": "code",
      "source": [],
      "metadata": {
        "id": "bVBhoS5LqHyU"
      },
      "execution_count": null,
      "outputs": []
    }
  ]
}